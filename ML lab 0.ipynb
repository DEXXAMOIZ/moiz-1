{
 "cells": [
  {
   "cell_type": "markdown",
   "metadata": {},
   "source": []
  },
  {
   "cell_type": "code",
   "execution_count": 5,
   "metadata": {},
   "outputs": [
    {
     "name": "stdout",
     "output_type": "stream",
     "text": [
      "[0.0, 7.810249675906654, 8.774964387392123]\n",
      "[7.810249675906654, 0.0, 8.602325267042627]\n",
      "[8.774964387392123, 8.602325267042627, 0.0]\n"
     ]
    }
   ],
   "source": [
    "check1 = [[10, 2, 5], [4, 5, 9], [5, 8, 1]]\n",
    "\n",
    "check2 = [[0, 1, 12], [3, 1, 5],[1,7,1]]\n",
    "\n",
    "def euclidean(f1,f2):\n",
    "    return sum((p-q)**2 for p, q in zip(f1, f2)) ** .5\n",
    "def main_1(check1,check2):\n",
    "    d2 = []\n",
    "    for i in check2:\n",
    "        foo = [euclidean(i, j) for j in check2]\n",
    "        d2.append(foo)\n",
    "    return d2\n",
    "d3=main_1(check1,check1)\n",
    "s=0\n",
    "for sublist in d3:\n",
    "    print(d3[s])\n",
    "    s+=1"
   ]
  },
  {
   "cell_type": "code",
   "execution_count": 3,
   "metadata": {},
   "outputs": [
    {
     "name": "stdout",
     "output_type": "stream",
     "text": [
      "[[ 0.          7.61577311 12.56980509]\n",
      " [ 7.61577311  0.          7.48331477]\n",
      " [12.56980509  7.48331477  0.        ]]\n"
     ]
    }
   ],
   "source": [
    "import numpy as np\n",
    "x1=np.array([[10, 2, 5], [4, 5, 9], [5, 8, 1]])\n",
    "x2=np.array([[0, 1, 12], [3, 1, 5],[1,7,1]])\n",
    "\n",
    "def run_euc(list_a,list_b):\n",
    "    return np.array([[ np.linalg.norm(i-j) for j in list_b] for i in list_b])\n",
    "\n",
    "print(run_euc(x1, x2))"
   ]
  },
  {
   "cell_type": "code",
   "execution_count": 4,
   "metadata": {},
   "outputs": [
    {
     "name": "stdout",
     "output_type": "stream",
     "text": [
      "94.1 µs ± 7.58 µs per loop (mean ± std. dev. of 7 runs, 10,000 loops each)\n",
      "117 µs ± 9.97 µs per loop (mean ± std. dev. of 7 runs, 10,000 loops each)\n"
     ]
    }
   ],
   "source": [
    "%timeit d4=main_1(x1, x2)\n",
    "%timeit run_euc(x1, x2)\n"
   ]
  },
  {
   "cell_type": "code",
   "execution_count": null,
   "metadata": {},
   "outputs": [],
   "source": []
  },
  {
   "cell_type": "code",
   "execution_count": null,
   "metadata": {},
   "outputs": [],
   "source": []
  },
  {
   "cell_type": "code",
   "execution_count": null,
   "metadata": {},
   "outputs": [],
   "source": []
  }
 ],
 "metadata": {
  "kernelspec": {
   "display_name": "Python 3 (ipykernel)",
   "language": "python",
   "name": "python3"
  },
  "language_info": {
   "codemirror_mode": {
    "name": "ipython",
    "version": 3
   },
   "file_extension": ".py",
   "mimetype": "text/x-python",
   "name": "python",
   "nbconvert_exporter": "python",
   "pygments_lexer": "ipython3",
   "version": "3.9.12"
  },
  "vscode": {
   "interpreter": {
    "hash": "23bf0724a01b6ea9814e66f76182ea78c0ee849a72ca257c0e116bf83bb4960a"
   }
  }
 },
 "nbformat": 4,
 "nbformat_minor": 2
}
